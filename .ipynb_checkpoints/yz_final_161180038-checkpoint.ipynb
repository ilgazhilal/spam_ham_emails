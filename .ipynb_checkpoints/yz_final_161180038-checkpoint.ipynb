{
 "cells": [
  {
   "cell_type": "code",
   "execution_count": 110,
   "metadata": {},
   "outputs": [],
   "source": [
    "import os"
   ]
  },
  {
   "cell_type": "code",
   "execution_count": 111,
   "metadata": {},
   "outputs": [],
   "source": [
    "ham_kelime = []\n",
    "spam_kelime = []\n",
    "istenmeyen = ['\\n','\\t','\\r','\\'',\n",
    "              '\"',':',';','.','/',\n",
    "              '!','#','$','%',\n",
    "              '{','}','(',')',\n",
    "              '?','&',']','[',\n",
    "              '-','_']\n",
    "spam_path=\"spam/\"\n",
    "ham_path=\"ham/\"\n",
    "komut='r'\n",
    "list_ham=os.listdir(ham_path)\n",
    "list_spam=os.listdir(spam_path)\n",
    "end_path=\".txt\"\n",
    "min_num = 10000000000\n",
    "ham_sayi = 0\n",
    "spam_sayi = 0"
   ]
  },
  {
   "cell_type": "code",
   "execution_count": 126,
   "metadata": {},
   "outputs": [],
   "source": [
    "def openfile(path,mail,komut):\n",
    "    file=open(path+str(mail),komut)\n",
    "    return file\n",
    "def mailsetting(file):\n",
    "    file=file.lower()\n",
    "    file=file.split(' ')\n",
    "    return file\n",
    "def istenmeyendoldur(file,istenmeyen):\n",
    "    for i in istenmeyen :\n",
    "            file = file.replace(i,' ')\n",
    "    return file        \n",
    "def countmail(mail_list,file):\n",
    "    mail_list= [ij for ij in file if ij != ' ']\n",
    "    return mail_list\n",
    "\n",
    "    "
   ]
  },
  {
   "cell_type": "code",
   "execution_count": 127,
   "metadata": {},
   "outputs": [],
   "source": [
    "\n",
    "\n",
    "for mail in list_spam:\n",
    "    if mail.endswith(end_path):\n",
    "        spam_sayi = spam_sayi + 1\n",
    "       \n",
    "        \n",
    "        filespam = openfile(spam_path,mail,komut)\n",
    "        fspam = filespam.read()\n",
    "        \n",
    "        fspam=istenmeyendoldur(fspam,istenmeyen)\n",
    "\n",
    "        fspam=mailsetting(fspam)\n",
    "        spam_kelime += countmail(spam_kelime,fspam)\n",
    "        filespam.close()\n",
    "for mail in list_ham:\n",
    "    if mail.endswith(end_path):\n",
    "        ham_sayi = ham_sayi + 1\n",
    "        \n",
    "        file = openfile(ham_path,mail,komut)\n",
    "        fham = file.read()\n",
    "\n",
    "        fham=istenmeyendoldur(fham,istenmeyen)\n",
    "\n",
    "        fham=mailsetting(fham)\n",
    "        ham_kelime += countmail(ham_kelime,fham)\n",
    "        file.close()\n",
    "\n"
   ]
  },
  {
   "cell_type": "code",
   "execution_count": 128,
   "metadata": {},
   "outputs": [],
   "source": [
    "ham_oran = float(ham_sayi)/float(ham_sayi + spam_sayi)\n",
    "spam_oran = float(spam_sayi)/float(ham_sayi + spam_sayi)\n"
   ]
  },
  {
   "cell_type": "code",
   "execution_count": 129,
   "metadata": {},
   "outputs": [],
   "source": [
    "def calculatescores (TP,TN,FP,FN):\n",
    "    P=TP+FN\n",
    "    N=FP+TN\n",
    "    acc=(TP+TN)/(P+N)\n",
    "    prec=TP/(TP+FP)\n",
    "    rec=TP/P\n",
    "    f1=(2*prec*rec)/(prec+rec)\n",
    "    \n",
    "\n",
    "    print('Accuracy : ',acc)\n",
    "    print('Precision : ',prec)\n",
    "    print('Recall: ',rec)\n",
    "    print('F1 Score: : ',f1)"
   ]
  },
  {
   "cell_type": "code",
   "execution_count": 131,
   "metadata": {},
   "outputs": [],
   "source": [
    "def classifyspam(testset,spam_k,spam_oran,spam_n,num):\n",
    "    testlist = list(set(testset))\n",
    "    for i in testlist:\n",
    "        float_spam=float(spam_k.count(i)+1)/float(spam_n)\n",
    "        spam_oran = spam_oran*(float_spam**testset.count(i))\n",
    "        if testlist.index(i)%2 == 0:\n",
    "            spam_oran = spam_oran * num\n",
    "    return spam_oran"
   ]
  },
  {
   "cell_type": "code",
   "execution_count": 132,
   "metadata": {},
   "outputs": [],
   "source": [
    "def classifyham(testset,ham_k,ham_oran,ham_n,num):\n",
    "    testlist = list(set(testset))\n",
    "    for i in testlist:\n",
    "        float_ham=float(ham_k.count(i)+1)/float(ham_n)\n",
    "        ham_oran = ham_oran*(float_ham**testset.count(i))\n",
    "        if testlist.index(i)%2 == 0:\n",
    "            ham_oran = ham_oran * num\n",
    "    return ham_oran"
   ]
  },
  {
   "cell_type": "code",
   "execution_count": 133,
   "metadata": {},
   "outputs": [],
   "source": [
    "def spamhamcount(mail,spam,ham):\n",
    "    \n",
    "    if mail.endswith('.spam.txt'):\n",
    "        spam = 1\n",
    "        \n",
    "    elif mail.endswith('.ham.txt'):\n",
    "        ham = 1\n",
    "        \n",
    "    else :\n",
    "        print ('Gecersiz: ' + str(mail))\n",
    "        \n",
    "    return spam,ham\n"
   ]
  },
  {
   "cell_type": "code",
   "execution_count": 134,
   "metadata": {},
   "outputs": [],
   "source": [
    "def sizesetting(ham_k,spam_k):\n",
    "    spam = list(set(spam_k))\n",
    "    ham = list(set(ham_k))\n",
    "    length = len(spam) + len(ham)\n",
    "    ham_n = length + len(ham_k)\n",
    "    spam_n = length + len(spam_k)\n",
    "    return ham_n,spam_n"
   ]
  },
  {
   "cell_type": "code",
   "execution_count": 135,
   "metadata": {},
   "outputs": [],
   "source": [
    "def testsetting(testset):\n",
    "    testset = testset.lower()\n",
    "    testset = testset.split()\n",
    "    return testset"
   ]
  },
  {
   "cell_type": "code",
   "execution_count": 136,
   "metadata": {},
   "outputs": [],
   "source": [
    "output_file = open('out.txt','w')\n",
    "h1 ,s1 = 0,0\n",
    "true_pos,true_neg,false_pos,false_neg = 0,0,0,0\n",
    "file_path=\"training/\"\n",
    "list_file=os.listdir(file_path)\n",
    "end_path=\".txt\"\n",
    "komut='r'"
   ]
  },
  {
   "cell_type": "code",
   "execution_count": 137,
   "metadata": {},
   "outputs": [],
   "source": [
    "def placemail(file,line,num,text):\n",
    "    \n",
    "    file.write('\\n'+line+text)\n",
    "    num += 1\n",
    "    return num\n",
    "\n",
    "    \n",
    "    "
   ]
  },
  {
   "cell_type": "code",
   "execution_count": 138,
   "metadata": {},
   "outputs": [],
   "source": [
    "\n",
    "for mail in list_file:\n",
    "    s ,h = 0,0\n",
    "    if mail.endswith(end_path):\n",
    "        text_line = str(mail)+'+++ '\n",
    "        s,h=spamhamcount(mail,s,h)\n",
    "            \n",
    "\n",
    "        train = openfile(file_path,mail,komut)\n",
    "       \n",
    "        testset = train.read()\n",
    "\n",
    "        for i in istenmeyen:\n",
    "            testset = testset.replace(i,' ')\n",
    "\n",
    "        test_set=testsetting(testset)\n",
    "\n",
    "        ham_naiveb,spam_naiveb=sizesetting(ham_kelime,spam_kelime)\n",
    "\n",
    "        t = classifyspam(test_set,spam_kelime,spam_oran,spam_naiveb,min_num)\n",
    "        \n",
    "    \n",
    "        tham = classifyham(test_set,ham_kelime,ham_oran,ham_naiveb,min_num)\n",
    "        \n",
    "        \n",
    "\n",
    "      \n",
    "    \n",
    "        if tham <t :\n",
    "            \n",
    "            s1 =placemail(output_file,text_line,s1,'spam')\n",
    "            if s :\n",
    "                true_pos =true_pos+1\n",
    "            else :\n",
    "                false_pos =false_pos+1\n",
    "            \n",
    "                \n",
    "        else :\n",
    "            \n",
    "            h1 =placemail(output_file,text_line,h1,'ham')\n",
    "            if h :\n",
    "                true_neg =true_neg+1\n",
    "                \n",
    "            else :\n",
    "                \n",
    "                false_neg =false_neg+1\n",
    "\n",
    "        train.close()\n",
    "output_file.close()"
   ]
  },
  {
   "cell_type": "code",
   "execution_count": 139,
   "metadata": {},
   "outputs": [
    {
     "name": "stdout",
     "output_type": "stream",
     "text": [
      "Accuracy :  0.876\n",
      "Precision :  0.9298780487804879\n",
      "Recall:  0.8133333333333334\n",
      "F1 Score: :  0.8677098150782362\n"
     ]
    }
   ],
   "source": [
    "\n",
    "\n",
    "calculatescores(true_pos,true_neg,false_pos,false_neg)\n",
    "\n"
   ]
  },
  {
   "cell_type": "code",
   "execution_count": null,
   "metadata": {},
   "outputs": [],
   "source": []
  }
 ],
 "metadata": {
  "kernelspec": {
   "display_name": "Python 3",
   "language": "python",
   "name": "python3"
  },
  "language_info": {
   "codemirror_mode": {
    "name": "ipython",
    "version": 3
   },
   "file_extension": ".py",
   "mimetype": "text/x-python",
   "name": "python",
   "nbconvert_exporter": "python",
   "pygments_lexer": "ipython3",
   "version": "3.8.3"
  }
 },
 "nbformat": 4,
 "nbformat_minor": 4
}
